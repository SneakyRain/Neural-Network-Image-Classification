{
 "cells": [
  {
   "cell_type": "code",
   "execution_count": 37,
   "metadata": {},
   "outputs": [],
   "source": [
    "import os\n",
    "import numpy as np\n",
    "from cv2 import cv2\n",
    "import tensorflow as tf\n",
    "from utils import ignoreWarnings, useDevice, LoadModel, showImage\n",
    "from dataprcs import readImage, InvertLabel\n",
    "from settings import IMG_HEIGHT, IMG_WIDTH, CHANNELS, IMG_SIZE, CLASSES, numofSamp, RESIZE_HEIGHT, RESIZE_WIDTH\n",
    "from UNetExtended import CreateUnetEx\n",
    "import time\n",
    "from tqdm.notebook import tqdm"
   ]
  },
  {
   "cell_type": "code",
   "execution_count": 19,
   "metadata": {},
   "outputs": [],
   "source": [
    "def InvertLabel_1(labeled_img):\n",
    "  \n",
    "  img = np.zeros((len(labeled_img), len(labeled_img[0,]), 3), dtype = np.uint8)\n",
    "\n",
    "  LB = [0, 255, 255] #Light Blue\n",
    "  DB = [0, 0, 255] #Dark Blue\n",
    "  G = [0, 255, 0] #Green\n",
    "  W = [255, 255, 255] #White\n",
    "  Y = [255, 255, 0] #Yellow\n",
    "  R = [255, 0, 0] #Red\n",
    "\n",
    "  pbar = tqdm(total = len(img), desc = 'Inverting Labels', unit = 'pixels', unit_scale = len(img[0,]))\n",
    "\n",
    "  for x in range(len(img)):\n",
    "    for y in range(len(img[0,])):\n",
    "      if labeled_img[x, y] == 0:\n",
    "        img[x, y, :] = LB\n",
    "      elif labeled_img[x, y] == 1:\n",
    "        img[x, y, :] = DB \n",
    "      elif labeled_img[x, y] == 2:\n",
    "        img[x, y, :] = G \n",
    "      elif labeled_img[x, y] == 3:\n",
    "        img[x, y, :] = W \n",
    "      elif labeled_img[x, y] == 4:\n",
    "        img[x, y, :] = Y \n",
    "      elif labeled_img[x, y] == 5:\n",
    "        img[x, y, :] = R\n",
    "      # else:\n",
    "      #   img[x, y, :] = W\n",
    "    time.sleep(0.0001)\n",
    "    pbar.update(1)\n",
    "  \n",
    "  pbar.close()\n",
    "\n",
    "  return img"
   ]
  },
  {
   "cell_type": "code",
   "execution_count": 3,
   "metadata": {},
   "outputs": [],
   "source": [
    "def predict(model, X_test):\n",
    "    print('predicting...')\n",
    "    result = model.predict(X_test, verbose = 1)\n",
    "        \n",
    "    result = result.reshape((RESIZE_HEIGHT, RESIZE_WIDTH, CLASSES))\n",
    "    result = np.argmax(result, axis = 2)\n",
    "    # result = np.round(result, 0)\n",
    "#     result = result.astype('int')\n",
    "\n",
    "    return result"
   ]
  },
  {
   "cell_type": "code",
   "execution_count": 4,
   "metadata": {},
   "outputs": [
    {
     "name": "stdout",
     "output_type": "stream",
     "text": [
      "using CPU\n",
      "device: XLA_CPU device\n",
      "loading model...\n"
     ]
    }
   ],
   "source": [
    "model_name = 'U-Net'\n",
    "ignoreWarnings()\n",
    "useDevice('CPU')\n",
    "\n",
    "# time_stamp = input('enter time stamp: ')\n",
    "time_stamp = '23-33-59'\n",
    "\n",
    "model = LoadModel(time_stamp, model_name, weights = True, IMG_SIZE = IMG_SIZE)\n",
    "\n",
    "impath = 'data/RGB/top_potsdam_5_12_RGB.tif'\n",
    "label_impath = 'raw_data/Label/top_potsdam_3_10_label.tif.npy'\n",
    "\n",
    "# X_test = np.load(impath)\n",
    "# y_test = np.load(label_impath)\n",
    "X_test = readImage(impath, IMG_SIZE)\n",
    "\n"
   ]
  },
  {
   "cell_type": "code",
   "execution_count": 5,
   "metadata": {},
   "outputs": [
    {
     "name": "stdout",
     "output_type": "stream",
     "text": [
      "8/8 [==============================] - 158s 20s/step\n"
     ]
    }
   ],
   "source": [
    "result = model.predict(X_test, verbose = 1)"
   ]
  },
  {
   "cell_type": "code",
   "execution_count": 40,
   "metadata": {
    "scrolled": false
   },
   "outputs": [
    {
     "data": {
      "application/vnd.jupyter.widget-view+json": {
       "model_id": "522047d35907497283d3eb7dabbcb77a",
       "version_major": 2,
       "version_minor": 0
      },
      "text/plain": [
       "HBox(children=(HTML(value='Inverting Labels'), FloatProgress(value=0.0, max=16777216.0), HTML(value='')))"
      ]
     },
     "metadata": {},
     "output_type": "display_data"
    },
    {
     "ename": "KeyboardInterrupt",
     "evalue": "",
     "output_type": "error",
     "traceback": [
      "\u001b[0;31m---------------------------------------------------------------------------\u001b[0m",
      "\u001b[0;31mKeyboardInterrupt\u001b[0m                         Traceback (most recent call last)",
      "\u001b[0;32m<ipython-input-40-cd3934225717>\u001b[0m in \u001b[0;36m<module>\u001b[0;34m\u001b[0m\n\u001b[1;32m      2\u001b[0m \u001b[0moutput\u001b[0m \u001b[0;34m=\u001b[0m \u001b[0moutput\u001b[0m\u001b[0;34m.\u001b[0m\u001b[0mreshape\u001b[0m\u001b[0;34m(\u001b[0m\u001b[0;34m(\u001b[0m\u001b[0mRESIZE_HEIGHT\u001b[0m\u001b[0;34m,\u001b[0m \u001b[0mRESIZE_WIDTH\u001b[0m\u001b[0;34m,\u001b[0m \u001b[0mCLASSES\u001b[0m\u001b[0;34m)\u001b[0m\u001b[0;34m)\u001b[0m\u001b[0;34m\u001b[0m\u001b[0;34m\u001b[0m\u001b[0m\n\u001b[1;32m      3\u001b[0m \u001b[0moutput\u001b[0m \u001b[0;34m=\u001b[0m \u001b[0mnp\u001b[0m\u001b[0;34m.\u001b[0m\u001b[0margmax\u001b[0m\u001b[0;34m(\u001b[0m\u001b[0moutput\u001b[0m\u001b[0;34m,\u001b[0m \u001b[0maxis\u001b[0m \u001b[0;34m=\u001b[0m \u001b[0;36m2\u001b[0m\u001b[0;34m)\u001b[0m\u001b[0;34m\u001b[0m\u001b[0;34m\u001b[0m\u001b[0m\n\u001b[0;32m----> 4\u001b[0;31m \u001b[0moutput\u001b[0m \u001b[0;34m=\u001b[0m \u001b[0mInvertLabel_1\u001b[0m\u001b[0;34m(\u001b[0m\u001b[0moutput\u001b[0m\u001b[0;34m)\u001b[0m\u001b[0;34m\u001b[0m\u001b[0;34m\u001b[0m\u001b[0m\n\u001b[0m",
      "\u001b[0;32m<ipython-input-19-519a5dff96d6>\u001b[0m in \u001b[0;36mInvertLabel_1\u001b[0;34m(labeled_img)\u001b[0m\n\u001b[1;32m     15\u001b[0m     \u001b[0;32mfor\u001b[0m \u001b[0my\u001b[0m \u001b[0;32min\u001b[0m \u001b[0mrange\u001b[0m\u001b[0;34m(\u001b[0m\u001b[0mlen\u001b[0m\u001b[0;34m(\u001b[0m\u001b[0mimg\u001b[0m\u001b[0;34m[\u001b[0m\u001b[0;36m0\u001b[0m\u001b[0;34m,\u001b[0m\u001b[0;34m]\u001b[0m\u001b[0;34m)\u001b[0m\u001b[0;34m)\u001b[0m\u001b[0;34m:\u001b[0m\u001b[0;34m\u001b[0m\u001b[0;34m\u001b[0m\u001b[0m\n\u001b[1;32m     16\u001b[0m       \u001b[0;32mif\u001b[0m \u001b[0mlabeled_img\u001b[0m\u001b[0;34m[\u001b[0m\u001b[0mx\u001b[0m\u001b[0;34m,\u001b[0m \u001b[0my\u001b[0m\u001b[0;34m]\u001b[0m \u001b[0;34m==\u001b[0m \u001b[0;36m0\u001b[0m\u001b[0;34m:\u001b[0m\u001b[0;34m\u001b[0m\u001b[0;34m\u001b[0m\u001b[0m\n\u001b[0;32m---> 17\u001b[0;31m         \u001b[0mimg\u001b[0m\u001b[0;34m[\u001b[0m\u001b[0mx\u001b[0m\u001b[0;34m,\u001b[0m \u001b[0my\u001b[0m\u001b[0;34m,\u001b[0m \u001b[0;34m:\u001b[0m\u001b[0;34m]\u001b[0m \u001b[0;34m=\u001b[0m \u001b[0mLB\u001b[0m\u001b[0;34m\u001b[0m\u001b[0;34m\u001b[0m\u001b[0m\n\u001b[0m\u001b[1;32m     18\u001b[0m       \u001b[0;32melif\u001b[0m \u001b[0mlabeled_img\u001b[0m\u001b[0;34m[\u001b[0m\u001b[0mx\u001b[0m\u001b[0;34m,\u001b[0m \u001b[0my\u001b[0m\u001b[0;34m]\u001b[0m \u001b[0;34m==\u001b[0m \u001b[0;36m1\u001b[0m\u001b[0;34m:\u001b[0m\u001b[0;34m\u001b[0m\u001b[0;34m\u001b[0m\u001b[0m\n\u001b[1;32m     19\u001b[0m         \u001b[0mimg\u001b[0m\u001b[0;34m[\u001b[0m\u001b[0mx\u001b[0m\u001b[0;34m,\u001b[0m \u001b[0my\u001b[0m\u001b[0;34m,\u001b[0m \u001b[0;34m:\u001b[0m\u001b[0;34m]\u001b[0m \u001b[0;34m=\u001b[0m \u001b[0mDB\u001b[0m\u001b[0;34m\u001b[0m\u001b[0;34m\u001b[0m\u001b[0m\n",
      "\u001b[0;31mKeyboardInterrupt\u001b[0m: "
     ]
    }
   ],
   "source": [
    "output = result\n",
    "output = output.reshape((RESIZE_HEIGHT, RESIZE_WIDTH, CLASSES))\n",
    "output = np.argmax(output, axis = 2)\n",
    "output = InvertLabel_1(output)"
   ]
  },
  {
   "cell_type": "code",
   "execution_count": 22,
   "metadata": {},
   "outputs": [
    {
     "name": "stdout",
     "output_type": "stream",
     "text": [
      "press any button to close the window\n",
      "displaying image for 100.0 s\n"
     ]
    }
   ],
   "source": [
    "showImage(output, waitKey = 10**5)"
   ]
  },
  {
   "cell_type": "code",
   "execution_count": 21,
   "metadata": {},
   "outputs": [
    {
     "data": {
      "application/vnd.jupyter.widget-view+json": {
       "model_id": "3fb4cf6e3d5c4942b0c15d01fc24b31b",
       "version_major": 2,
       "version_minor": 0
      },
      "text/plain": [
       "HBox(children=(HTML(value='Inverting Labels'), FloatProgress(value=0.0, max=16777216.0), HTML(value='')))"
      ]
     },
     "metadata": {},
     "output_type": "display_data"
    },
    {
     "name": "stdout",
     "output_type": "stream",
     "text": [
      "\n"
     ]
    }
   ],
   "source": [
    "output = InvertLabel_1(output)"
   ]
  },
  {
   "cell_type": "code",
   "execution_count": null,
   "metadata": {},
   "outputs": [],
   "source": []
  }
 ],
 "metadata": {
  "kernelspec": {
   "display_name": "Python 3.8.2 64-bit",
   "language": "python",
   "name": "python38264bitf04a89b49bc14875b254b29937cb5388"
  },
  "language_info": {
   "codemirror_mode": {
    "name": "ipython",
    "version": 3
   },
   "file_extension": ".py",
   "mimetype": "text/x-python",
   "name": "python",
   "nbconvert_exporter": "python",
   "pygments_lexer": "ipython3",
   "version": "3.8.5"
  }
 },
 "nbformat": 4,
 "nbformat_minor": 4
}
