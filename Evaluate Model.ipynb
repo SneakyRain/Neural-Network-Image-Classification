{
 "cells": [
  {
   "cell_type": "code",
   "execution_count": 1,
   "metadata": {},
   "outputs": [],
   "source": [
    "import os\n",
    "import numpy as np\n",
    "from cv2 import cv2\n",
    "import tensorflow as tf\n",
    "from utils import ignoreWarnings, useDevice, LoadModel, showImage\n",
    "from dataprcs import readImage, InvertLabel\n",
    "from settings import IMG_HEIGHT, IMG_WIDTH, CHANNELS, IMG_SIZE, CLASSES, numofSamp, RESIZE_HEIGHT, RESIZE_WIDTH\n",
    "from UNetExtended import CreateUnetEx\n",
    "import time\n",
    "from tqdm.notebook import tqdm"
   ]
  },
  {
   "cell_type": "code",
   "execution_count": 2,
   "metadata": {},
   "outputs": [],
   "source": [
    "def InvertLabel_1(labeled_img):\n",
    "  \n",
    "  img = np.zeros((len(labeled_img), len(labeled_img[0,]), 3), dtype = np.uint8)\n",
    "\n",
    "  LB = [0, 255, 255] #Light Blue\n",
    "  DB = [0, 0, 255] #Dark Blue\n",
    "  G = [0, 255, 0] #Green\n",
    "  W = [255, 255, 255] #White\n",
    "  Y = [255, 255, 0] #Yellow\n",
    "  R = [255, 0, 0] #Red\n",
    "\n",
    "  pbar = tqdm(total = len(img), desc = 'Inverting Labels', unit = 'pixels', unit_scale = len(img[0,]))\n",
    "\n",
    "  for x in range(len(img)):\n",
    "    for y in range(len(img[0,])):\n",
    "      if labeled_img[x, y] == 0:\n",
    "        img[x, y, :] = LB\n",
    "      elif labeled_img[x, y] == 1:\n",
    "        img[x, y, :] = DB \n",
    "      elif labeled_img[x, y] == 2:\n",
    "        img[x, y, :] = G \n",
    "      elif labeled_img[x, y] == 3:\n",
    "        img[x, y, :] = W \n",
    "      elif labeled_img[x, y] == 4:\n",
    "        img[x, y, :] = Y \n",
    "      elif labeled_img[x, y] == 5:\n",
    "        img[x, y, :] = R\n",
    "      # else:\n",
    "      #   img[x, y, :] = W\n",
    "    time.sleep(0.0001)\n",
    "    pbar.update(1)\n",
    "  \n",
    "  pbar.close()\n",
    "\n",
    "  return img"
   ]
  },
  {
   "cell_type": "code",
   "execution_count": 3,
   "metadata": {},
   "outputs": [],
   "source": [
    "def predict(model, X_test):\n",
    "    print('predicting...')\n",
    "    result = model.predict(X_test, verbose = 1)\n",
    "        \n",
    "    result = result.reshape((RESIZE_HEIGHT, RESIZE_WIDTH, CLASSES))\n",
    "    result = np.argmax(result, axis = 2)\n",
    "    # result = np.round(result, 0)\n",
    "#     result = result.astype('int')\n",
    "\n",
    "    return result"
   ]
  },
  {
   "cell_type": "code",
   "execution_count": 3,
   "metadata": {},
   "outputs": [
    {
     "output_type": "stream",
     "name": "stdout",
     "text": [
      "using CPU\ndevice: XLA_CPU device\nloading model...\n"
     ]
    }
   ],
   "source": [
    "model_name = 'U-Net'\n",
    "ignoreWarnings()\n",
    "useDevice('CPU')\n",
    "\n",
    "# time_stamp = input('enter time stamp: ')\n",
    "time_stamp = '18-31-35'\n",
    "\n",
    "model = LoadModel(time_stamp, model_name, weights = True, IMG_SIZE = IMG_SIZE)\n",
    "\n",
    "impath = 'data/RGB/top_potsdam_5_12_RGB.tif'\n",
    "label_impath = 'raw_data/Label/top_potsdam_3_10_label.tif.npy'\n",
    "\n",
    "# X_test = np.load(impath)\n",
    "# y_test = np.load(label_impath)\n",
    "X_test = readImage(impath, IMG_SIZE)\n",
    "\n"
   ]
  },
  {
   "cell_type": "code",
   "execution_count": 32,
   "metadata": {},
   "outputs": [
    {
     "output_type": "stream",
     "name": "stdout",
     "text": [
      "1/1 [==============================] - 0s 1ms/step\n",
      "1/1 [==============================] - 0s 917us/step\n",
      "1/1 [==============================] - 0s 1ms/step\n",
      "1/1 [==============================] - 0s 979us/step\n",
      "1/1 [==============================] - 0s 940us/step\n",
      "1/1 [==============================] - 0s 844us/step\n",
      "1/1 [==============================] - 0s 802us/step\n",
      "1/1 [==============================] - 0s 797us/step\n",
      "1/1 [==============================] - 0s 870us/step\n",
      "1/1 [==============================] - 0s 1ms/step\n",
      "1/1 [==============================] - 0s 1ms/step\n",
      "1/1 [==============================] - 0s 968us/step\n",
      "1/1 [==============================] - 0s 729us/step\n",
      "1/1 [==============================] - 0s 1ms/step\n",
      "1/1 [==============================] - 0s 761us/step\n",
      "1/1 [==============================] - 0s 803us/step\n",
      "1/1 [==============================] - 0s 806us/step\n",
      "1/1 [==============================] - 0s 835us/step\n",
      "1/1 [==============================] - 0s 1ms/step\n",
      "1/1 [==============================] - 0s 829us/step\n",
      "1/1 [==============================] - 0s 876us/step\n",
      "1/1 [==============================] - 0s 842us/step\n",
      "1/1 [==============================] - 0s 808us/step\n",
      "1/1 [==============================] - 0s 846us/step\n",
      "1/1 [==============================] - 0s 862us/step\n",
      "1/1 [==============================] - 0s 844us/step\n",
      "1/1 [==============================] - 0s 899us/step\n",
      "1/1 [==============================] - 0s 786us/step\n",
      "1/1 [==============================] - 0s 901us/step\n",
      "1/1 [==============================] - 0s 835us/step\n",
      "1/1 [==============================] - 0s 913us/step\n",
      "1/1 [==============================] - 0s 769us/step\n"
     ]
    }
   ],
   "source": [
    "output = []\n",
    "for samp in range(8*4):\n",
    "    result = model.predict(X_test[samp+20:samp+21], verbose = 1)\n",
    "    output.append(result)\n",
    "abcd = output"
   ]
  },
  {
   "cell_type": "code",
   "execution_count": 33,
   "metadata": {
    "scrolled": false
   },
   "outputs": [
    {
     "output_type": "stream",
     "name": "stdout",
     "text": [
      "(32, 1, 512, 512, 6) (1, 512, 512, 6)\n(32, 1, 512, 512) (1, 512, 512, 6)\n"
     ]
    },
    {
     "output_type": "display_data",
     "data": {
      "text/plain": "HBox(children=(HTML(value='Inverting Labels'), FloatProgress(value=0.0, max=8388608.0), HTML(value='')))",
      "application/vnd.jupyter.widget-view+json": {
       "version_major": 2,
       "version_minor": 0,
       "model_id": "a483b40f94224a979a295eb2aa770e59"
      }
     },
     "metadata": {}
    },
    {
     "output_type": "stream",
     "name": "stdout",
     "text": [
      "\n"
     ]
    }
   ],
   "source": [
    "output = np.array(abcd)\n",
    "print(np.shape(output), np.shape(result))\n",
    "output = np.argmax(output, axis = 4)\n",
    "print(np.shape(output), np.shape(result))\n",
    "output = output.reshape(IMG_HEIGHT*4, IMG_WIDTH*8)\n",
    "output = InvertLabel_1(output)"
   ]
  },
  {
   "cell_type": "code",
   "execution_count": 34,
   "metadata": {},
   "outputs": [
    {
     "output_type": "stream",
     "name": "stdout",
     "text": [
      "press any button to close the window\ndisplaying image for 100.0 s\n"
     ]
    }
   ],
   "source": [
    "showImage(output, waitKey = 10**5)"
   ]
  },
  {
   "cell_type": "code",
   "execution_count": 21,
   "metadata": {},
   "outputs": [
    {
     "data": {
      "application/vnd.jupyter.widget-view+json": {
       "model_id": "3fb4cf6e3d5c4942b0c15d01fc24b31b",
       "version_major": 2,
       "version_minor": 0
      },
      "text/plain": [
       "HBox(children=(HTML(value='Inverting Labels'), FloatProgress(value=0.0, max=16777216.0), HTML(value='')))"
      ]
     },
     "metadata": {},
     "output_type": "display_data"
    },
    {
     "name": "stdout",
     "output_type": "stream",
     "text": [
      "\n"
     ]
    }
   ],
   "source": [
    "output = InvertLabel_1(output)"
   ]
  },
  {
   "cell_type": "code",
   "execution_count": null,
   "metadata": {},
   "outputs": [],
   "source": []
  }
 ],
 "metadata": {
  "kernelspec": {
   "display_name": "Python 3.8.2 64-bit",
   "language": "python",
   "name": "python38264bitf04a89b49bc14875b254b29937cb5388"
  },
  "language_info": {
   "codemirror_mode": {
    "name": "ipython",
    "version": 3
   },
   "file_extension": ".py",
   "mimetype": "text/x-python",
   "name": "python",
   "nbconvert_exporter": "python",
   "pygments_lexer": "ipython3",
   "version": "3.8.5-final"
  }
 },
 "nbformat": 4,
 "nbformat_minor": 4
}